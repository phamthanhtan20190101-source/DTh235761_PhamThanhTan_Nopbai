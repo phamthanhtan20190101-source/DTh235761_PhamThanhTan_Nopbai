{
 "cells": [
  {
   "cell_type": "code",
   "execution_count": 4,
   "id": "a72f36dc",
   "metadata": {},
   "outputs": [
    {
     "name": "stdout",
     "output_type": "stream",
     "text": [
      "Chu vi đường tròn: 31.41592653589793\n",
      "Diện tích đường tròn: 78.53981633974483\n"
     ]
    }
   ],
   "source": [
    "# Câu 1\n",
    "import math\n",
    "r = float(input(\"Nhập bán kính r: \"))\n",
    "chu_vi = 2 * math.pi * r\n",
    "dien_tich = math.pi * r ** 2\n",
    "print(f\"Chu vi đường tròn: {chu_vi}\")\n",
    "print(f\"Diện tích đường tròn: {dien_tich}\")"
   ]
  },
  {
   "cell_type": "code",
   "execution_count": 5,
   "id": "119f0064",
   "metadata": {},
   "outputs": [
    {
     "name": "stdout",
     "output_type": "stream",
     "text": [
      "0:57:35\n"
     ]
    }
   ],
   "source": [
    "# Câu 2\n",
    "t = int(input(\"Nhập vào số giây: \"))\n",
    "gio = t // 3600\n",
    "phut = (t % 3600) // 60\n",
    "giay = t % 60\n",
    "print(f\"{gio}:{phut}:{giay}\")"
   ]
  },
  {
   "cell_type": "code",
   "execution_count": 6,
   "id": "e969ea14",
   "metadata": {},
   "outputs": [
    {
     "name": "stdout",
     "output_type": "stream",
     "text": [
      "Điểm trung bình: 6.00\n"
     ]
    }
   ],
   "source": [
    "# Câu 3\n",
    "toan = float(input(\"Nhập điểm Toán: \"))\n",
    "ly = float(input(\"Nhập điểm Lý: \"))\n",
    "hoa = float(input(\"Nhập điểm Hóa: \"))\n",
    "diem_tb = (toan + ly + hoa) / 3\n",
    "print(f\"Điểm trung bình: {diem_tb:.2f}\")"
   ]
  },
  {
   "cell_type": "markdown",
   "id": "d70f7702",
   "metadata": {},
   "source": [
    "### Các kiểu dữ liệu cơ bản trong Python:\n",
    "\n",
    "- **int**: Số nguyên (ví dụ: 1, -7, 100)\n",
    "- **float**: Số thực (ví dụ: 3.14, -0.5)\n",
    "- **bool**: Kiểu logic (True, False)\n",
    "- **str**: Chuỗi ký tự (ví dụ: \"Hello\", 'Python')\n",
    "- **list**: Danh sách (ví dụ: [1, 2, 3])\n",
    "- **tuple**: Bộ (ví dụ: (1, 2, 3))\n",
    "- **dict**: Từ điển (ví dụ: {'a': 1, 'b': 2})\n",
    "- **set**: Tập hợp (ví dụ: {1, 2, 3})"
   ]
  },
  {
   "cell_type": "markdown",
   "id": "070566d5",
   "metadata": {},
   "source": [
    "### Các loại ghi chú trong Python:\n",
    "\n",
    "- **Ghi chú một dòng:** Dùng ký tự `#` ở đầu dòng.\n",
    "  ```python\n",
    "  # Đây là ghi chú một dòng\n",
    "  ```\n",
    "\n",
    "- **Ghi chú nhiều dòng:** Dùng ba dấu nháy đơn hoặc nháy kép liên tiếp (`''' ... '''` hoặc `\"\"\" ... \"\"\"`).\n",
    "  ```python\n",
    "  '''\n",
    "  Đây là ghi chú nhiều dòng\n",
    "  '''\n",
    "  ```\n",
    "\n",
    "Ghi chú giúp giải thích mã nguồn, không được thực thi khi chạy chương trình."
   ]
  },
  {
   "cell_type": "markdown",
   "id": "60178653",
   "metadata": {},
   "source": [
    "### Ý nghĩa các toán tử trong Python:\n",
    "\n",
    "- `/` : Chia lấy kết quả là số thực (float).\n",
    "  - Ví dụ: `5 / 2 = 2.5`\n",
    "\n",
    "- `//` : Chia lấy phần nguyên.\n",
    "  - Ví dụ: `5 // 2 = 2`\n",
    "\n",
    "- `%` : Chia lấy phần dư.\n",
    "  - Ví dụ: `5 % 2 = 1`\n",
    "\n",
    "- `**` : Lũy thừa.\n",
    "  - Ví dụ: `2 ** 3 = 8`\n",
    "\n",
    "- `and` : Toán tử logic \"và\" (True nếu cả hai đều đúng).\n",
    "  - Ví dụ: `True and False = False`\n",
    "\n",
    "- `or` : Toán tử logic \"hoặc\" (True nếu một trong hai đúng).\n",
    "  - Ví dụ: `True or False = True`\n",
    "\n",
    "- `is` : So sánh hai đối tượng có cùng vị trí trong bộ nhớ hay không.\n",
    "  - Ví dụ: `a is b` trả về True nếu a và b cùng tham chiếu một đối tượng."
   ]
  },
  {
   "cell_type": "markdown",
   "id": "f07b141a",
   "metadata": {},
   "source": [
    "### Một số cách nhập dữ liệu từ bàn phím trong Python:\n",
    "\n",
    "- **Hàm `input()`**: Nhập dữ liệu dưới dạng chuỗi.\n",
    "  ```python\n",
    "  name = input(\"Nhập tên: \")\n",
    "  ```\n",
    "\n",
    "- **Ép kiểu dữ liệu khi nhập:** Dùng hàm chuyển đổi kiểu như `int()`, `float()`.\n",
    "  ```python\n",
    "  age = int(input(\"Nhập tuổi: \"))\n",
    "  diem = float(input(\"Nhập điểm: \"))\n",
    "  ```\n",
    "\n",
    "- **Nhập nhiều giá trị trên một dòng:** Dùng `split()` để tách các giá trị.\n",
    "  ```python\n",
    "  a, b = input(\"Nhập hai số, cách nhau bởi dấu cách: \").split()\n",
    "  a = int(a)\n",
    "  b = int(b)\n",
    "  ```"
   ]
  },
  {
   "cell_type": "markdown",
   "id": "f7665086",
   "metadata": {},
   "source": [
    "### Các loại lỗi khi lập trình Python và cách bắt lỗi:\n",
    "\n",
    "- **Lỗi cú pháp (SyntaxError):** Viết sai quy tắc cú pháp của Python.\n",
    "  - Ví dụ: thiếu dấu hai chấm, dấu ngoặc, v.v.\n",
    "\n",
    "- **Lỗi thực thi (RuntimeError):** Lỗi xảy ra khi chương trình đang chạy (ví dụ: chia cho 0, truy cập biến chưa khai báo).\n",
    "\n",
    "- **Lỗi logic:** Chương trình chạy không báo lỗi nhưng kết quả sai do sai thuật toán.\n",
    "\n",
    "**Cách bắt lỗi trong Python:**\n",
    "\n",
    "- Sử dụng khối `try...except` để xử lý ngoại lệ:\n",
    "  ```python\n",
    "  try:\n",
    "      x = int(input(\"Nhập số: \"))\n",
    "      print(10 / x)\n",
    "  except ZeroDivisionError:\n",
    "      print(\"Lỗi: Không được chia cho 0!\")\n",
    "  except ValueError:\n",
    "      print(\"Lỗi: Giá trị nhập không hợp lệ!\")\n",
    "  ```"
   ]
  },
  {
   "cell_type": "markdown",
   "id": "e49fd244",
   "metadata": {},
   "source": [
    "### Giải thích kết quả tính toán của các biểu thức với các biến:\n",
    "\n",
    "```python\n",
    "i1 = 2\n",
    "i2 = 5\n",
    "i3 = -3\n",
    "d1 = 2.0\n",
    "d2 = 5.0\n",
    "d3 = -0.5\n",
    "```\n",
    "\n",
    "- **i1 + i2** = 2 + 5 = **7** (cộng hai số nguyên)\n",
    "- **i1 / i2** = 2 / 5 = **0.4** (chia hai số nguyên, kết quả là float)\n",
    "- **i2 // i1** = 5 // 2 = **2** (chia lấy phần nguyên)\n",
    "- **i2 % i1** = 5 % 2 = **1** (chia lấy phần dư)\n",
    "- **i1 * i3** = 2 * -3 = **-6** (nhân hai số nguyên)\n",
    "- **d1 + d2** = 2.0 + 5.0 = **7.0** (cộng hai số thực)\n",
    "- **d1 / d2** = 2.0 / 5.0 = **0.4** (chia hai số thực)\n",
    "- **d2 // d1** = 5.0 // 2.0 = **2.0** (chia lấy phần nguyên, kết quả là float)\n",
    "- **d2 % d1** = 5.0 % 2.0 = **1.0** (chia lấy phần dư, kết quả là float)\n",
    "- **d1 * d3** = 2.0 * -0.5 = **-1.0** (nhân hai số thực)\n",
    "\n",
    "Các phép toán giữa số nguyên và số thực sẽ trả về kết quả là số thực (float).\n",
    "\n",
    "Các phép chia `/` luôn trả về số thực, còn phép chia lấy phần nguyên `//` và phép chia lấy dư `%` trả về kiểu dữ liệu theo toán hạng (int hoặc float)."
   ]
  },
  {
   "cell_type": "markdown",
   "id": "fc22fd58",
   "metadata": {},
   "source": [
    "### Kết quả và giải thích các biểu thức:\n",
    "\n",
    "Giá trị biến:\n",
    "```python\n",
    "i1 = 2\n",
    "i2 = 5\n",
    "i3 = -3\n",
    "d1 = 2.0\n",
    "d2 = 5.0\n",
    "d3 = -0.5\n",
    "```\n",
    "\n",
    "**(a) i1 + (i2 * i3)**\n",
    "- 2 + (5 * -3) = 2 + (-15) = **-13**\n",
    "\n",
    "**(b) i1 * (i2 + i3)**\n",
    "- 2 * (5 + -3) = 2 * 2 = **4**\n",
    "\n",
    "**(c) i1 / (i2 + i3)**\n",
    "- 2 / (5 + -3) = 2 / 2 = **1.0**\n",
    "\n",
    "**(d) i1 // (i2 + i3)**\n",
    "- 2 // (5 + -3) = 2 // 2 = **1**\n",
    "\n",
    "**(e) i1 / i2 + i3**\n",
    "- 2 / 5 + (-3) = 0.4 + (-3) = **-2.6**\n",
    "\n",
    "**(f) i1 // i2 + i3**\n",
    "- 2 // 5 + (-3) = 0 + (-3) = **-3**\n",
    "\n",
    "**(g) 3 + 4 + 5 / 3**\n",
    "- 3 + 4 + (5 / 3) = 3 + 4 + 1.666... = **8.666...**\n",
    "\n",
    "**(h) 3 + 4 + 5 // 3**\n",
    "- 3 + 4 + (5 // 3) = 3 + 4 + 1 = **8**\n",
    "\n",
    "**(i) (3 + 4 + 5) / 3**\n",
    "- (3 + 4 + 5) / 3 = 12 / 3 = **4.0**\n",
    "\n",
    "**(j) (3 + 4 + 5) // 3**\n",
    "- (3 + 4 + 5) // 3 = 12 // 3 = **4**\n",
    "\n",
    "**(k) d1 + (d2 * d3)**\n",
    "- 2.0 + (5.0 * -0.5) = 2.0 + (-2.5) = **-0.5**\n",
    "\n",
    "**(l) d1 + d2 * d3**\n",
    "- 2.0 + 5.0 * -0.5 = 2.0 + (-2.5) = **-0.5**\n",
    "\n",
    "**(m) d1 / d2 - d3**\n",
    "- 2.0 / 5.0 - (-0.5) = 0.4 + 0.5 = **0.9**\n",
    "\n",
    "**(n) d1 / (d2 - d3)**\n",
    "- 2.0 / (5.0 - (-0.5)) = 2.0 / 5.5 = **0.3636...**\n",
    "\n",
    "**(o) d1 + d2 + d3 / 3**\n",
    "- 2.0 + 5.0 + (-0.5 / 3) = 2.0 + 5.0 + (-0.166...) = **6.833...**\n",
    "\n",
    "**(p) (d1 + d2 + d3) / 3**\n",
    "- (2.0 + 5.0 + -0.5) / 3 = 6.5 / 3 = **2.166...**\n",
    "\n",
    "**(q) d1 + d2 + (d3 / 3)**\n",
    "- 2.0 + 5.0 + (-0.5 / 3) = 2.0 + 5.0 + (-0.166...) = **6.833...**\n",
    "\n",
    "**(r) 3 * (d1 + d2) * (d1 - d3)**\n",
    "- 3 * (2.0 + 5.0) * (2.0 - (-0.5)) = 3 * 7.0 * 2.5 = 21.0 * 2.5 = **52.5**\n",
    "\n",
    "Các phép toán tuân theo thứ tự ưu tiên toán học: nhân/chia trước, cộng/trừ sau, ngoặc thực hiện trước."
   ]
  },
  {
   "cell_type": "markdown",
   "id": "5bb5c8e3",
   "metadata": {},
   "source": [
    "### Viết ngắn gọn lại các lệnh:\n",
    "\n",
    "- (a) `x = x + 1` &rarr; `x += 1`\n",
    "- (b) `x = x / 2` &rarr; `x /= 2`\n",
    "- (c) `x = x - 1` &rarr; `x -= 1`\n",
    "- (d) `x = x + y` &rarr; `x += y`\n",
    "- (e) `x = x - (y + 7)` &rarr; `x -= (y + 7)`\n",
    "- (f) `x = 2 * x` &rarr; `x *= 2`\n",
    "- (g) `number_of_closed_cases = number_of_closed_cases + 2 * ncc` &rarr; `number_of_closed_cases += 2 * ncc`"
   ]
  }
 ],
 "metadata": {
  "kernelspec": {
   "display_name": "Python 3",
   "language": "python",
   "name": "python3"
  },
  "language_info": {
   "codemirror_mode": {
    "name": "ipython",
    "version": 3
   },
   "file_extension": ".py",
   "mimetype": "text/x-python",
   "name": "python",
   "nbconvert_exporter": "python",
   "pygments_lexer": "ipython3",
   "version": "3.11.9"
  }
 },
 "nbformat": 4,
 "nbformat_minor": 5
}
