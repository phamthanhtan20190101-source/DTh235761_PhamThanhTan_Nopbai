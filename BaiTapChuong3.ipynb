{
 "cells": [
  {
   "cell_type": "code",
   "execution_count": 1,
   "id": "e075fefb",
   "metadata": {},
   "outputs": [
    {
     "name": "stdout",
     "output_type": "stream",
     "text": [
      "Chương trình kiểm kiểm tra năm nhuần !\n",
      "Năm  2024 là năm nhuần\n",
      "Năm  2024 là năm nhuần\n"
     ]
    }
   ],
   "source": [
    "print(\"Chương trình kiểm kiểm tra năm nhuần !\")\n",
    "year = int(input(\"Nhập vào năm cần kiểm tra: \"))\n",
    "if (year % 4 == 0 and year % 100 != 0) or (year % 400 == 0):\n",
    "    print(\"Năm \" , year , \"là năm nhuần\")\n",
    "else:\n",
    "    print(\"Năm \" , year , \"không phải là năm nhuần\")"
   ]
  },
  {
   "cell_type": "code",
   "execution_count": null,
   "id": "095d4d17",
   "metadata": {},
   "outputs": [
    {
     "name": "stdout",
     "output_type": "stream",
     "text": [
      "Chương đếm số ngày trong tháng !\n",
      "Tháng 2 năm  2 có 28 ngày\n"
     ]
    }
   ],
   "source": [
    "print(\"Chương trình đếm số ngày trong tháng !\")\n",
    "month = int(input(\"Nhập vào tháng cần kiểm tra: \"))\n",
    "if month in [1, 3, 5, 7, 8, 10, 12]:\n",
    "    print(\"Tháng \" , month , \"có 31 ngày\")\n",
    "elif month in [4, 6, 9, 11]:\n",
    "    print(\"Tháng \" , month , \"có 30 ngày\")\n",
    "elif month == 2:\n",
    "    year = int(input(\"Nhập vào năm để kiểm tra số ngày trong tháng 2: \"))\n",
    "    if (year % 4 == 0 and year % 100 != 0) or (year % 400 == 0):\n",
    "        print(\"Tháng 2 năm \" , year , \"có 29 ngày\")\n",
    "    else:\n",
    "        print(\"Tháng 2 năm \" , year , \"có 28 ngày\")\n",
    "else:\n",
    "    print(\"Tháng không hợp lệ !\")\n",
    "      "
   ]
  },
  {
   "cell_type": "code",
   "execution_count": 2,
   "id": "0c44f51f",
   "metadata": {},
   "outputs": [
    {
     "name": "stdout",
     "output_type": "stream",
     "text": [
      "Chương trình giải phương trình bật 2 !\n",
      "Phương trình vô nghiệm\n"
     ]
    }
   ],
   "source": [
    "from math import sqrt\n",
    "print(\"Chương trình giải phương trình bật 2 !\")\n",
    "a=float(input(\"Nhập hệ số a: \"))\n",
    "b=float(input(\"Nhập hệ số b: \"))\n",
    "c=float(input(\"Nhập hệ số c: \"))\n",
    "if a==0:\n",
    "    if b==0:\n",
    "        if c==0:\n",
    "            print(\"Phương trình có vô số nghiệm\")\n",
    "        else:\n",
    "            print(\"Phương trình vô nghiệm\")\n",
    "    else:\n",
    "        print(\"Phương trình có một nghiệm: x =\", -c/b)\n",
    "else:\n",
    "    delta=b**2-4*a*c\n",
    "    if delta<0:\n",
    "        print(\"Phương trình vô nghiệm\")\n",
    "    elif delta==0:\n",
    "        print(\"Phương trình có nghiệm kép: x1 = x2 =\", -b/(2*a))\n",
    "    else:\n",
    "        x1=(-b+sqrt(delta))/(2*a)\n",
    "        x2=(-b-sqrt(delta))/(2*a)\n",
    "        print(\"Phương trình có hai nghiệm phân biệt: x1 =\", x1, \", x2 =\", x2)\n"
   ]
  },
  {
   "cell_type": "markdown",
   "id": "32489814",
   "metadata": {},
   "source": [
    "### Kết quả các biểu thức Boolean với x = 3, y = 5, z = 7:\n",
    "\n",
    "- (a) `x == 3` &rarr; **True**\n",
    "- (b) `x < y` &rarr; **True**\n",
    "- (c) `x >= y` &rarr; **False**\n",
    "- (d) `x <= y` &rarr; **True**\n",
    "- (e) `x != y - 2` &rarr; 3 != 3 &rarr; **False**\n",
    "- (f) `x < 10` &rarr; **True**\n",
    "- (g) `x >= 0 and x < 10` &rarr; True and True &rarr; **True**\n",
    "- (h) `x < 0 and x < 10` &rarr; False and True &rarr; **False**\n",
    "- (i) `x >= 0 and x < 2` &rarr; True and False &rarr; **False**\n",
    "- (j) `x < 0 or x < 10` &rarr; False or True &rarr; **True**\n",
    "- (k) `x > 0 or x < 10` &rarr; True or True &rarr; **True**\n",
    "- (l) `x < 0 or x > 10` &rarr; False or False &rarr; **False**"
   ]
  },
  {
   "cell_type": "markdown",
   "id": "35f1a4d5",
   "metadata": {},
   "source": [
    "### Kết quả xuất ra màn hình của đoạn mã với các giá trị khác nhau:\n",
    "\n",
    "Giả sử đoạn mã:\n",
    "```python\n",
    "if i < j:\n",
    "    if j < k:\n",
    "        i = j\n",
    "    else:\n",
    "        j = k\n",
    "else:\n",
    "    if j > k:\n",
    "        j = i\n",
    "    else:\n",
    "        i = k\n",
    "print(\"i =\", i, \"j =\", j, \"k =\", k)\n",
    "```\n",
    "\n",
    "**(a) i = 3, j = 5, k = 7**\n",
    "- i < j (3 < 5): đúng\n",
    "- j < k (5 < 7): đúng ⇒ i = j ⇒ i = 5\n",
    "- Kết quả: **i = 5, j = 5, k = 7**\n",
    "\n",
    "**(b) i = 3, j = 7, k = 5**\n",
    "- i < j (3 < 7): đúng\n",
    "- j < k (7 < 5): sai ⇒ j = k ⇒ j = 5\n",
    "- Kết quả: **i = 3, j = 5, k = 5**\n",
    "\n",
    "**(c) i = 5, j = 3, k = 7**\n",
    "- i < j (5 < 3): sai\n",
    "- j > k (3 > 7): sai ⇒ i = k ⇒ i = 7\n",
    "- Kết quả: **i = 7, j = 3, k = 7**\n",
    "\n",
    "**(d) i = 5, j = 7, k = 3**\n",
    "- i < j (5 < 7): đúng\n",
    "- j < k (7 < 3): sai ⇒ j = k ⇒ j = 3\n",
    "- Kết quả: **i = 5, j = 3, k = 3**\n",
    "\n",
    "**(e) i = 7, j = 3, k = 5**\n",
    "- i < j (7 < 3): sai\n",
    "- j > k (3 > 5): sai ⇒ i = k ⇒ i = 5\n",
    "- Kết quả: **i = 5, j = 3, k = 5**\n",
    "\n",
    "**(f) i = 7, j = 5, k = 3**\n",
    "- i < j (7 < 5): sai\n",
    "- j > k (5 > 3): đúng ⇒ j = i ⇒ j = 7\n",
    "- Kết quả: **i = 7, j = 7, k = 3**"
   ]
  },
  {
   "cell_type": "code",
   "execution_count": 3,
   "id": "bc7729a3",
   "metadata": {},
   "outputs": [
    {
     "name": "stdout",
     "output_type": "stream",
     "text": [
      "bốn mươi lăm\n"
     ]
    }
   ],
   "source": [
    "# Câu 6: Đọc số có tối đa 2 chữ số\n",
    "n = int(input(\"Nhập số nguyên n (0 <= n < 100): \"))\n",
    "\n",
    "don_vi = [\"\", \"một\", \"hai\", \"ba\", \"bốn\", \"năm\", \"sáu\", \"bảy\", \"tám\", \"chín\"]\n",
    "hang_chuc = [\"\", \"mười\", \"hai mươi\", \"ba mươi\", \"bốn mươi\", \"năm mươi\", \"sáu mươi\", \"bảy mươi\", \"tám mươi\", \"chín mươi\"]\n",
    "\n",
    "if n < 0 or n >= 100:\n",
    "    print(\"Chỉ nhập số có tối đa 2 chữ số (0-99)\")\n",
    "elif n < 10:\n",
    "    # Đọc số có 1 chữ số\n",
    "    if n == 0:\n",
    "        print(\"Không\")\n",
    "    else:\n",
    "        print(don_vi[n])\n",
    "else:\n",
    "    chuc = n // 10\n",
    "    dv = n % 10\n",
    "    if dv == 0:\n",
    "        print(hang_chuc[chuc])\n",
    "    elif dv == 5 and chuc > 0:\n",
    "        print(f\"{hang_chuc[chuc]} lăm\")\n",
    "    else:\n",
    "        print(f\"{hang_chuc[chuc]} {don_vi[dv]}\")"
   ]
  },
  {
   "cell_type": "code",
   "execution_count": 4,
   "id": "aa3f1d2c",
   "metadata": {},
   "outputs": [
    {
     "name": "stdout",
     "output_type": "stream",
     "text": [
      "Ngày kế tiếp: 1/5/1945\n"
     ]
    }
   ],
   "source": [
    "# Câu 7: Tìm ngày kế tiếp\n",
    "day = int(input(\"Nhập ngày: \"))\n",
    "month = int(input(\"Nhập tháng: \"))\n",
    "year = int(input(\"Nhập năm: \"))\n",
    "\n",
    "# Số ngày trong từng tháng\n",
    "def is_leap(y):\n",
    "    return (y % 4 == 0 and y % 100 != 0) or (y % 400 == 0)\n",
    "\n",
    "days_in_month = [0, 31, 28, 31, 30, 31, 30, 31, 31, 30, 31, 30, 31]\n",
    "if month == 2 and is_leap(year):\n",
    "    max_day = 29\n",
    "else:\n",
    "    max_day = days_in_month[month]\n",
    "\n",
    "if day < max_day:\n",
    "    day += 1\n",
    "else:\n",
    "    day = 1\n",
    "    if month == 12:\n",
    "        month = 1\n",
    "        year += 1\n",
    "    else:\n",
    "        month += 1\n",
    "\n",
    "print(f\"Ngày kế tiếp: {day}/{month}/{year}\")"
   ]
  },
  {
   "cell_type": "code",
   "execution_count": 5,
   "id": "01686f9f",
   "metadata": {},
   "outputs": [
    {
     "name": "stdout",
     "output_type": "stream",
     "text": [
      "3.0 - 6.0 = -3.0\n"
     ]
    }
   ],
   "source": [
    "# Câu 8: Tính toán theo phép toán nhập vào\n",
    "a = float(input(\"Nhập giá trị a: \"))\n",
    "b = float(input(\"Nhập giá trị b: \"))\n",
    "op = input(\"Nhập phép toán (+, -, *, /): \")\n",
    "\n",
    "if op == \"+\":\n",
    "    print(f\"{a} + {b} = {a + b}\")\n",
    "elif op == \"-\":\n",
    "    print(f\"{a} - {b} = {a - b}\")\n",
    "elif op == \"*\":\n",
    "    print(f\"{a} * {b} = {a * b}\")\n",
    "elif op == \"/\":\n",
    "    if b != 0:\n",
    "        print(f\"{a} / {b} = {a / b}\")\n",
    "    else:\n",
    "        print(\"Không thể chia cho 0!\")\n",
    "else:\n",
    "    print(\"Phép toán không hợp lệ.\")"
   ]
  },
  {
   "cell_type": "code",
   "execution_count": null,
   "id": "5c595e23",
   "metadata": {},
   "outputs": [],
   "source": [
    "# Câu 9: Xác định quý của tháng\n",
    "thang = int(input(\"Nhập vào tháng (1-12): \"))\n",
    "if 1 <= thang <= 3:\n",
    "    print(f\"Tháng {thang} thuộc quý 1\")\n",
    "elif 4 <= thang <= 6:\n",
    "    print(f\"Tháng {thang} thuộc quý 2\")\n",
    "elif 7 <= thang <= 9:\n",
    "    print(f\"Tháng {thang} thuộc quý 3\")\n",
    "elif 10 <= thang <= 12:\n",
    "    print(f\"Tháng {thang} thuộc quý 4\")\n",
    "else:\n",
    "    print(\"Tháng không hợp lệ!\")"
   ]
  },
  {
   "cell_type": "code",
   "execution_count": 6,
   "id": "12dbb6b1",
   "metadata": {},
   "outputs": [
    {
     "name": "stdout",
     "output_type": "stream",
     "text": [
      "Kết quả S(4.0, 6) = 47.55555555555555\n"
     ]
    }
   ],
   "source": [
    "# Câu 10: Tính S(x, n) = x + x^2/2! + x^3/3! + ... + x^n/n!\n",
    "x = float(input(\"Nhập x: \"))\n",
    "n = int(input(\"Nhập n: \"))\n",
    "\n",
    "def giai_thua(k):\n",
    "    gt = 1\n",
    "    for i in range(2, k+1):\n",
    "        gt *= i\n",
    "    return gt\n",
    "\n",
    "S = 0\n",
    "for i in range(1, n+1):\n",
    "    S += x**i / giai_thua(i)\n",
    "\n",
    "print(f\"Kết quả S({x}, {n}) = {S}\")"
   ]
  },
  {
   "cell_type": "code",
   "execution_count": 7,
   "id": "36e6ed07",
   "metadata": {},
   "outputs": [
    {
     "name": "stdout",
     "output_type": "stream",
     "text": [
      "7 là số nguyên tố.\n",
      "Thoát chương trình.\n",
      "Thoát chương trình.\n"
     ]
    }
   ],
   "source": [
    "# Câu 11: Kiểm tra số nguyên tố, cho phép lặp lại hoặc thoát\n",
    "def is_prime(n):\n",
    "    if n < 2:\n",
    "        return False\n",
    "    for i in range(2, int(n**0.5)+1):\n",
    "        if n % i == 0:\n",
    "            return False\n",
    "    return True\n",
    "\n",
    "while True:\n",
    "    num = int(input(\"Nhập một số nguyên: \"))\n",
    "    if is_prime(num):\n",
    "        print(f\"{num} là số nguyên tố.\")\n",
    "    else:\n",
    "        print(f\"{num} không phải là số nguyên tố.\")\n",
    "    tiep = input(\"Bạn có muốn kiểm tra số khác không? (c/k): \")\n",
    "    if tiep.lower() != 'c':\n",
    "        print(\"Thoát chương trình.\")\n",
    "        break"
   ]
  },
  {
   "cell_type": "code",
   "execution_count": 8,
   "id": "64e2eb18",
   "metadata": {},
   "outputs": [
    {
     "name": "stdout",
     "output_type": "stream",
     "text": [
      "Bảng cửu chương 2:\n",
      "2 x 1 = 2\n",
      "2 x 2 = 4\n",
      "2 x 3 = 6\n",
      "2 x 4 = 8\n",
      "2 x 5 = 10\n",
      "2 x 6 = 12\n",
      "2 x 7 = 14\n",
      "2 x 8 = 16\n",
      "2 x 9 = 18\n",
      "2 x 10 = 20\n",
      "--------------------\n",
      "Bảng cửu chương 3:\n",
      "3 x 1 = 3\n",
      "3 x 2 = 6\n",
      "3 x 3 = 9\n",
      "3 x 4 = 12\n",
      "3 x 5 = 15\n",
      "3 x 6 = 18\n",
      "3 x 7 = 21\n",
      "3 x 8 = 24\n",
      "3 x 9 = 27\n",
      "3 x 10 = 30\n",
      "--------------------\n",
      "Bảng cửu chương 4:\n",
      "4 x 1 = 4\n",
      "4 x 2 = 8\n",
      "4 x 3 = 12\n",
      "4 x 4 = 16\n",
      "4 x 5 = 20\n",
      "4 x 6 = 24\n",
      "4 x 7 = 28\n",
      "4 x 8 = 32\n",
      "4 x 9 = 36\n",
      "4 x 10 = 40\n",
      "--------------------\n",
      "Bảng cửu chương 5:\n",
      "5 x 1 = 5\n",
      "5 x 2 = 10\n",
      "5 x 3 = 15\n",
      "5 x 4 = 20\n",
      "5 x 5 = 25\n",
      "5 x 6 = 30\n",
      "5 x 7 = 35\n",
      "5 x 8 = 40\n",
      "5 x 9 = 45\n",
      "5 x 10 = 50\n",
      "--------------------\n",
      "Bảng cửu chương 6:\n",
      "6 x 1 = 6\n",
      "6 x 2 = 12\n",
      "6 x 3 = 18\n",
      "6 x 4 = 24\n",
      "6 x 5 = 30\n",
      "6 x 6 = 36\n",
      "6 x 7 = 42\n",
      "6 x 8 = 48\n",
      "6 x 9 = 54\n",
      "6 x 10 = 60\n",
      "--------------------\n",
      "Bảng cửu chương 7:\n",
      "7 x 1 = 7\n",
      "7 x 2 = 14\n",
      "7 x 3 = 21\n",
      "7 x 4 = 28\n",
      "7 x 5 = 35\n",
      "7 x 6 = 42\n",
      "7 x 7 = 49\n",
      "7 x 8 = 56\n",
      "7 x 9 = 63\n",
      "7 x 10 = 70\n",
      "--------------------\n",
      "Bảng cửu chương 8:\n",
      "8 x 1 = 8\n",
      "8 x 2 = 16\n",
      "8 x 3 = 24\n",
      "8 x 4 = 32\n",
      "8 x 5 = 40\n",
      "8 x 6 = 48\n",
      "8 x 7 = 56\n",
      "8 x 8 = 64\n",
      "8 x 9 = 72\n",
      "8 x 10 = 80\n",
      "--------------------\n",
      "Bảng cửu chương 9:\n",
      "9 x 1 = 9\n",
      "9 x 2 = 18\n",
      "9 x 3 = 27\n",
      "9 x 4 = 36\n",
      "9 x 5 = 45\n",
      "9 x 6 = 54\n",
      "9 x 7 = 63\n",
      "9 x 8 = 72\n",
      "9 x 9 = 81\n",
      "9 x 10 = 90\n",
      "--------------------\n"
     ]
    }
   ],
   "source": [
    "# Câu 12: Xuất bảng cửu chương từ 2 đến 9\n",
    "for i in range(2, 10):\n",
    "    print(f\"Bảng cửu chương {i}:\")\n",
    "    for j in range(1, 11):\n",
    "        print(f\"{i} x {j} = {i*j}\")\n",
    "    print(\"-\" * 20)"
   ]
  },
  {
   "cell_type": "markdown",
   "id": "e1ab7309",
   "metadata": {},
   "source": [
    "Cau 13 \n",
    "Chay vo han vi gia tri cua a khong tang"
   ]
  },
  {
   "cell_type": "markdown",
   "id": "eaf9e39e",
   "metadata": {},
   "source": [
    "### Giải bài tập: Cho biết bao nhiêu dấu * được in ra màn hình\n",
    "\n",
    "```python\n",
    "for a in range(20, 100, 5):\n",
    "    print('*', end='')\n",
    "print()\n",
    "```\n",
    "\n",
    "**Phân tích:**\n",
    "- `range(20, 100, 5)` sinh ra các giá trị: 20, 25, 30, 35, 40, 45, 50, 55, 60, 65, 70, 75, 80, 85, 90, 95 (tổng cộng 16 số).\n",
    "- Mỗi lần lặp in ra một dấu `*` trên cùng một dòng.\n",
    "- Sau khi kết thúc vòng lặp, `print()` sẽ xuống dòng.\n",
    "\n",
    "**Kết quả:**\n",
    "- Có **16** dấu `*` được in ra màn hình.\n",
    "\n"
   ]
  },
  {
   "cell_type": "markdown",
   "id": "71124268",
   "metadata": {},
   "source": [
    "### Giải thích cách chạy các dòng lệnh range\n",
    "\n",
    "- **(a) `range(5)`**  \n",
    "  Sinh ra dãy số từ 0 đến 4 (mặc định bắt đầu từ 0, bước 1):  \n",
    "  Kết quả: `[0, 1, 2, 3, 4]`\n",
    "\n",
    "- **(b) `range(5, 10)`**  \n",
    "  Sinh ra dãy số từ 5 đến 9 (bắt đầu từ 5, kết thúc trước 10, bước 1):  \n",
    "  Kết quả: `[5, 6, 7, 8, 9]`\n",
    "\n",
    "- **(c) `range(5, 20, 3)`**  \n",
    "  Sinh ra dãy số từ 5 đến nhỏ hơn 20, bước nhảy 3:  \n",
    "  Kết quả: `[5, 8, 11, 14, 17]`\n",
    "\n",
    "- **(d) `range(20, 5, -1)`**  \n",
    "  Sinh ra dãy số từ 20 đến lớn hơn 5, bước nhảy -1:  \n",
    "  Kết quả: `[20, 19, 18, 17, 16, 15, 14, 13, 12, 11, 10, 9, 8, 7, 6]`\n",
    "\n",
    "- **(e) `range(20, 5, -3)`**  \n",
    "  Sinh ra dãy số từ 20 đến lớn hơn 5, bước nhảy -3:  \n",
    "  Kết quả: `[20, 17, 14, 11, 8]`\n",
    "\n",
    "- **(f) `range(10, 5)`**  \n",
    "  Không có số nào vì mặc định bước là 1, không thể tăng từ 10 lên 5:  \n",
    "  Kết quả: `[]`\n",
    "\n",
    "- **(g) `range(0)`**  \n",
    "  Không có số nào vì kết thúc tại 0:  \n",
    "  Kết quả: `[]`\n",
    "\n",
    "- **(h) `range(10, 101, 10)`**  \n",
    "  Sinh ra dãy số từ 10 đến 100, bước nhảy 10:  \n",
    "  Kết quả: `[10, 20, 30, 40, 50, 60, 70, 80, 90, 100]`\n",
    "\n",
    "- **(i) `range(10, -1, -1)`**  \n",
    "  Sinh ra dãy số từ 10 đến 0, bước nhảy -1:  \n",
    "  Kết quả: `[10, 9, 8, 7, 6, 5, 4, 3, 2, 1, 0]`\n",
    "\n",
    "- **(j) `range(-3, 4)`**  \n",
    "  Sinh ra dãy số từ -3 đến 3, bước nhảy 1:  \n",
    "  Kết quả: `[-3, -2, -1, 0, 1, 2, 3]`\n",
    "\n",
    "- **(k) `range(0, 10, 1)`**  \n",
    "  Sinh ra dãy số từ 0 đến 9, bước nhảy 1:  \n",
    "  Kết quả: `[0, 1, 2, 3, 4, 5, 6, 7, 8, 9]`\n",
    "```"
   ]
  },
  {
   "cell_type": "markdown",
   "id": "d57de65b",
   "metadata": {},
   "source": [
    "Cau 16 \n",
    "Co 15 \"*\" in ra man hinh "
   ]
  },
  {
   "cell_type": "code",
   "execution_count": null,
   "id": "ed947881",
   "metadata": {},
   "outputs": [],
   "source": [
    "# Câu 17: Viết lại bằng break thay cho biến done\n",
    "n, m = 0, 100\n",
    "while n != m:\n",
    "    n = int(input())\n",
    "    if n < 0:\n",
    "        break\n",
    "    print(\"n =\", n)"
   ]
  },
  {
   "cell_type": "code",
   "execution_count": 1,
   "id": "72a87469",
   "metadata": {},
   "outputs": [
    {
     "name": "stdout",
     "output_type": "stream",
     "text": [
      "* * * * * \n",
      "*       *\n",
      "*       *\n",
      "*       *\n",
      "* * * * * \n",
      "    *\n",
      "   **\n",
      "  ***\n",
      " ****\n",
      "*****\n",
      "*\n",
      "**\n",
      "*****\n",
      "   **\n",
      "    *\n"
     ]
    }
   ],
   "source": [
    "#Câu 18\n",
    "n = int(input(\"Nhập chiều cao của hình: \"))\n",
    "#hình vuông\n",
    "for i in range(n):\n",
    "    if i == 0 or i == n - 1:           # hàng đầu & cuối\n",
    "        print(\"* \" * n)\n",
    "    else:                              # hàng giữa\n",
    "        print(\"* \" + \"  \" * (n - 2) + \"*\") #số 2 trong (n-2) là * ở đầu và cuối hàng giữa\n",
    "\n",
    "#hình tam giác vuông\n",
    "for i in range(1, n + 1):\n",
    "    print(\" \" * (n - i) + \"*\" * i)\n",
    "\n",
    "#hình 2 tam giác vuông chéo nhau\n",
    "h = n // 2\n",
    "\n",
    "# Tạo các dòng\n",
    "lines = ['*' * i for i in range(1, h + 1)] + ['*' * n] + [' ' * (n - i) + '*' * i for i in range(h, 0, -1)]\n",
    "\n",
    "# In ra, giữ nguyên dòng giữa\n",
    "for idx, row in enumerate(lines):\n",
    "    if idx == h:  # dòng giữa\n",
    "        print(row)\n",
    "    else:\n",
    "        print(''.join(c if i == 0 or i == len(row)-1 or row[i-1] != '*' or row[i+1] != '*' else ' '\n",
    "                      for i, c in enumerate(row)))"
   ]
  },
  {
   "cell_type": "markdown",
   "id": "795b30e4",
   "metadata": {},
   "source": [
    "Câu 18: Viết chương trình tính S(x, n) = x + x^3/3! + x^5/5! + ... + x^(2n+1)/(2n+1)!"
   ]
  },
  {
   "cell_type": "code",
   "execution_count": 13,
   "id": "447ff06a",
   "metadata": {},
   "outputs": [
    {
     "name": "stdout",
     "output_type": "stream",
     "text": [
      "S(4.0, 3) = 26.45079365079365\n"
     ]
    }
   ],
   "source": [
    "# Câu 19: Tính S(x, n) = x + x^3/3! + x^5/5! + ... + x^(2n+1)/(2n+1)!\n",
    "def giai_thua(k):\n",
    "    gt = 1\n",
    "    for i in range(2, k+1):\n",
    "        gt *= i\n",
    "    return gt\n",
    "\n",
    "x = float(input(\"Nhập x: \"))\n",
    "n = int(input(\"Nhập n: \"))\n",
    "\n",
    "S = 0\n",
    "for k in range(n+1):\n",
    "    mu = 2*k + 1\n",
    "    S += x**mu / giai_thua(mu)\n",
    "\n",
    "print(f\"S({x}, {n}) = {S}\")"
   ]
  }
 ],
 "metadata": {
  "kernelspec": {
   "display_name": "Python 3",
   "language": "python",
   "name": "python3"
  },
  "language_info": {
   "codemirror_mode": {
    "name": "ipython",
    "version": 3
   },
   "file_extension": ".py",
   "mimetype": "text/x-python",
   "name": "python",
   "nbconvert_exporter": "python",
   "pygments_lexer": "ipython3",
   "version": "3.11.9"
  }
 },
 "nbformat": 4,
 "nbformat_minor": 5
}
