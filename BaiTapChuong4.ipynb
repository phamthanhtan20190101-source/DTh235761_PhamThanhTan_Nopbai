{
 "cells": [
  {
   "cell_type": "code",
   "execution_count": null,
   "id": "f603f0d1",
   "metadata": {},
   "outputs": [
    {
     "name": "stdout",
     "output_type": "stream",
     "text": [
      "Chương trình tính diện tích Tam Giác\n",
      "Diện tích = 5.332682251925386\n"
     ]
    }
   ],
   "source": [
    "#Cau 1\n",
    "from math import sqrt\n",
    "print(\"Chương trình tính diện tích Tam Giác\")\n",
    "a=float(input(\"Nhập cạnh a>0:\"))\n",
    "b=float(input(\"Nhập cạnh b>0:\"))\n",
    "c=float(input(\"Nhập cạnh c>0:\"))\n",
    "if (a<=0 or b <=0 or c <=0) or (a+b)<=c or (a+c)<=b or b+c<=a:\n",
    " print(\"Tam giác không hợp lệ\")\n",
    "else:\n",
    " cv=a+b+c\n",
    " p=cv/2\n",
    " dt=sqrt(p*(p-a)*(p-b)*(p-c))\n",
    " print(\"Diện tích =\",dt)"
   ]
  },
  {
   "cell_type": "code",
   "execution_count": null,
   "id": "0b4b0a10",
   "metadata": {},
   "outputs": [
    {
     "name": "stdout",
     "output_type": "stream",
     "text": [
      "Bạn đoán lần thứ  1\n",
      "Bạn đoán sai, số máy < số bạn\n",
      "Bạn đoán lần thứ  2\n",
      "Bạn đoán sai, số máy < số bạn\n",
      "Bạn đoán lần thứ  3\n",
      "Bạn đoán sai, số máy < số bạn\n",
      "Bạn đoán lần thứ  4\n",
      "Bạn đoán sai, số máy < số bạn\n",
      "Bạn đoán lần thứ  5\n",
      "Bạn đoán sai, số máy > số bạn\n",
      "Bạn đoán lần thứ  6\n",
      "Chúc mừng bạn đoán đúng, số máy là= 15\n",
      "Bạn đoán lần thứ  1\n",
      "Bạn đoán sai, số máy < số bạn\n"
     ]
    }
   ],
   "source": [
    "#Cau 2\n",
    "from random import randrange\n",
    "while True:\n",
    " somay=randrange(1,101)\n",
    " solandoan=0\n",
    " win=False\n",
    " while solandoan<7:\n",
    "    solandoan+=1\n",
    "    songuoi=int(input(\"Máy đoán [1..100], mời bạn đoán:\"))\n",
    "    print(\"Bạn đoán lần thứ \",solandoan)\n",
    "    if somay==songuoi:\n",
    "        print(\"Chúc mừng bạn đoán đúng, số máy là=\",somay)\n",
    "        win=True\n",
    "        break\n",
    "    if somay>songuoi:\n",
    "        print(\"Bạn đoán sai, số máy > số bạn\")\n",
    "    elif somay<songuoi:\n",
    "        print(\"Bạn đoán sai, số máy < số bạn\")\n",
    " if win==False:\n",
    "    print(\"GAME OVER!, số máy =\",somay)\n",
    " hoi=input(\"Tiếp không?\")\n",
    " if hoi==\"k\":\n",
    "    break\n",
    "print(\"Cám ơn bạn đã chơi Game!\")\n",
    "\n"
   ]
  },
  {
   "cell_type": "code",
   "execution_count": 2,
   "id": "46b29d4c",
   "metadata": {},
   "outputs": [
    {
     "name": "stdout",
     "output_type": "stream",
     "text": [
      "Chỉ số BMI: 18.19\n",
      "Phân loại: Gầy\n",
      "Nguy cơ phát triển bệnh: Thấp\n"
     ]
    }
   ],
   "source": [
    "# Câu 3: Tính BMI, phân loại và cảnh báo nguy cơ\n",
    "\n",
    "can_nang = float(input(\"Nhập cân nặng (kg): \"))\n",
    "chieu_cao = float(input(\"Nhập chiều cao (m): \"))\n",
    "\n",
    "bmi = can_nang / (chieu_cao ** 2)\n",
    "print(f\"Chỉ số BMI: {bmi:.2f}\")\n",
    "\n",
    "if bmi < 18.5:\n",
    "    phan_loai = \"Gầy\"\n",
    "    nguy_co = \"Thấp\"\n",
    "elif bmi < 25:\n",
    "    phan_loai = \"Bình thường\"\n",
    "    nguy_co = \"Trung bình\"\n",
    "elif bmi < 30:\n",
    "    phan_loai = \"Hơi béo\"\n",
    "    nguy_co = \"Cao\"\n",
    "elif bmi < 35:\n",
    "    phan_loai = \"Béo phì cấp độ 1\"\n",
    "    nguy_co = \"Cao\"\n",
    "elif bmi < 40:\n",
    "    phan_loai = \"Béo phì cấp độ 2\"\n",
    "    nguy_co = \"Rất cao\"\n",
    "else:\n",
    "    phan_loai = \"Béo phì cấp độ 3\"\n",
    "    nguy_co = \"Nguy hiểm\"\n",
    "\n",
    "print(f\"Phân loại: {phan_loai}\")\n",
    "print(f\"Nguy cơ phát triển bệnh: {nguy_co}\")"
   ]
  },
  {
   "cell_type": "code",
   "execution_count": 8,
   "id": "dcfe9423",
   "metadata": {},
   "outputs": [
    {
     "name": "stdout",
     "output_type": "stream",
     "text": [
      "Chỉ số ROI: 1.00\n",
      "Nên đầu tư dự án này.\n"
     ]
    }
   ],
   "source": [
    "# Câu 4: Tính ROI và tư vấn đầu tư\n",
    "doanh_thu = float(input(\"Nhập Doanh thu: \"))\n",
    "chi_phi = float(input(\"Nhập Chi phí: \"))\n",
    "\n",
    "if chi_phi == 0:\n",
    "    print(\"Chi phí phải lớn hơn 0 để tính ROI.\")\n",
    "else:\n",
    "    roi = (doanh_thu - chi_phi) / chi_phi\n",
    "    print(f\"Chỉ số ROI: {roi:.2f}\")\n",
    "    if roi >= 0.75:\n",
    "        print(\"Nên đầu tư dự án này.\")\n",
    "    else:\n",
    "        print(\"Không nên đầu tư dự án này.\")"
   ]
  },
  {
   "cell_type": "code",
   "execution_count": null,
   "id": "663f4e3a",
   "metadata": {},
   "outputs": [
    {
     "name": "stdout",
     "output_type": "stream",
     "text": [
      "Số Fibonacci tại vị trí 9 là: 34\n",
      "Dãy Fibonacci từ 1 tới 9: [1, 1, 2, 3, 5, 8, 13, 21, 34]\n"
     ]
    }
   ],
   "source": [
    "def fibonacci(n):\n",
    "    if n<=2 :\n",
    "        return 1\n",
    "    return fibonacci(n-1)+fibonacci(n-2)\n",
    "def listfibo(n):\n",
    "    for i in range(1,n+1):\n",
    "        print(fibonacci(i),end='\\t')\n",
    "print(fibonacci(30))\n",
    "listfibo(30)\n"
   ]
  },
  {
   "cell_type": "markdown",
   "id": "6f962b06",
   "metadata": {},
   "source": [
    "### Câu 6: Những giá trị nào có thể xuất hiện khi chạy randrange(0, 100)?\n",
    "\n",
    "- Hàm `randrange(0, 100)` sinh ra một số nguyên ngẫu nhiên từ 0 đến 99 (bao gồm 0, không bao gồm 100).\n",
    "- Các giá trị có thể xuất hiện là: **0, 1, 2, ..., 98, 99**.\n",
    "- Không thể xuất hiện các giá trị: 4.5 (không phải số nguyên), -1 (ngoài khoảng), 100 (ngoài khoảng).\n",
    "\n",
    "**Kết luận:**\n",
    "- Giá trị có thể xuất hiện: **34, 0, 99**\n",
    "- Giá trị không thể xuất hiện: **4.5, -1, 100**"
   ]
  },
  {
   "cell_type": "code",
   "execution_count": 16,
   "id": "5f686de5",
   "metadata": {},
   "outputs": [
    {
     "name": "stdout",
     "output_type": "stream",
     "text": [
      "Hay nhap toa do diem A:\n",
      "Hay nhap toa do diem B:\n",
      "Do dai AB = 2.23606797749979\n"
     ]
    }
   ],
   "source": [
    "from math import sqrt\n",
    "# Câu 7\n",
    "print (\"Hay nhap toa do diem A:\")\n",
    "A1=float(input(\"Nhap A1:\"))\n",
    "A2=float(input(\"Nhap A2:\"))\n",
    "print (\"Hay nhap toa do diem B:\")\n",
    "B1=float(input(\"Nhap B1:\"))\n",
    "B2=float(input(\"Nhap B2:\"))\n",
    "def DoDaiAB(A1,A2,B1,B2):\n",
    "    return sqrt((B1-A1)**2+(B2-A2)**2)\n",
    "print(\"Do dai AB =\",DoDaiAB(A1,A2,B1,B2))\n",
    "\n"
   ]
  },
  {
   "cell_type": "code",
   "execution_count": null,
   "id": "62a39449",
   "metadata": {},
   "outputs": [
    {
     "name": "stdout",
     "output_type": "stream",
     "text": [
      "log_5.0(5.0) = 1.0\n"
     ]
    }
   ],
   "source": [
    "# Câu 8: Viết chương trình tính log_a(x) với x > 0, a > 0, a != 1 (dùng log_a(x) = ln(x)/ln(a))\n",
    "from math import log\n",
    "\n",
    "x = float(input(\"Nhập x (>0): \"))\n",
    "a = float(input(\"Nhập a (>0, a != 1): \"))\n",
    "\n",
    "if x > 0 and a > 0 and a != 1:\n",
    "    loga_x = log(x) / log(a)\n",
    "    print(f\"log_{a}({x}) = {loga_x}\")\n",
    "else:\n",
    "    print(\"Giá trị nhập vào không hợp lệ (x > 0, a > 0, a != 1)\")"
   ]
  },
  {
   "cell_type": "code",
   "execution_count": null,
   "id": "a6c5d584",
   "metadata": {},
   "outputs": [],
   "source": [
    "# Câu 9: Tính S(n) = sqrt(2 + sqrt(2 + ... + sqrt(2))) với n dấu căn lồng nhau\n",
    "from math import sqrt\n",
    "\n",
    "n = int(input(\"Nhập n: \"))\n",
    "S = 0\n",
    "for _ in range(n):\n",
    "    S = sqrt(2 + S)\n",
    "print(f\"S({n}) = {S}\")"
   ]
  }
 ],
 "metadata": {
  "kernelspec": {
   "display_name": "Python 3",
   "language": "python",
   "name": "python3"
  },
  "language_info": {
   "codemirror_mode": {
    "name": "ipython",
    "version": 3
   },
   "file_extension": ".py",
   "mimetype": "text/x-python",
   "name": "python",
   "nbconvert_exporter": "python",
   "pygments_lexer": "ipython3",
   "version": "3.11.9"
  }
 },
 "nbformat": 4,
 "nbformat_minor": 5
}
